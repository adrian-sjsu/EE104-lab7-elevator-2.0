{
  "metadata": {
    "kernelspec": {
      "name": "python",
      "display_name": "Python (Pyodide)",
      "language": "python"
    },
    "language_info": {
      "codemirror_mode": {
        "name": "python",
        "version": 3
      },
      "file_extension": ".py",
      "mimetype": "text/x-python",
      "name": "python",
      "nbconvert_exporter": "python",
      "pygments_lexer": "ipython3",
      "version": "3.8"
    }
  },
  "nbformat_minor": 4,
  "nbformat": 4,
  "cells": [
    {
      "cell_type": "code",
      "source": "from pynq import Overlay\nps_gpio_design = Overlay(\"./ps_gpio_kv260.bit\")\nfrom pynq import GPIO\nfrom time import sleep",
      "metadata": {
        "trusted": true
      },
      "outputs": [],
      "execution_count": null
    },
    {
      "cell_type": "code",
      "source": "#Emergency Call\nEC = GPIO(GPIO.get_gpio_pin(0), 'in')\n\n#Floor Call request\nFR1 = GPIO(GPIO.get_gpio_pin(1), 'in')\nFR0 = GPIO(GPIO.get_gpio_pin(2), 'in')\n\n#Motor control pins\nEUD = GPIO(GPIO.get_gpio_pin(3), 'out') #Elevator Up(1)/down(0)\nESG = GPIO(GPIO.get_gpio_pin(4), 'out') #Elevator stop(1)/go(0)\nEOC = GPIO(GPIO.get_gpio_pin(5), 'out') #Elevator Door open(1)/close(0)\n\n#Current floor\nCF1=    GPIO(GPIO.get_gpio_pin(6), 'out') \nCF0=    GPIO(GPIO.get_gpio_pin(7), 'out')\n\nFLOOR_1 = 0\nFLOOR_2 = 1\nFLOOR_3 = 2\nFLOOR_4 = 3\n\nIDLE = 'Idle'\nMOVING_UP = 'Moving Up'\nMOVING_DOWN = 'Moving Down'\nARRIVING = 'Arriving'\nEMERGENCY = 'Emergency'",
      "metadata": {
        "trusted": true
      },
      "outputs": [],
      "execution_count": null
    },
    {
      "cell_type": "code",
      "source": "current_floor = FLOOR_1\ntarget_floors = set()\nstate = IDLE\ndoor_open = False\nemergency_mode = False\n\ndef check_inputs():\n    # Check for emergency request\n    if EC.read() == 1:\n        emergency_call()\n        return\n\n    # Process floor requests\n    floor_request = (FR1.read() << 1) | FR0.read()  # 2-bit floor call\n    if floor_request != current_floor:\n        request_floor(floor_request)\n    \n    # Handle elevator movement and other actions\n    check_for_requests()\ndef request_floor(floor):\n    if floor not in target_floors:\n        target_floors.add(floor)\n    print(f\"Floor {floor + 1} requested.\")\n\ndef emergency_call():\n    print(\"Emergency call received! Moving to Floor 1 immediately.\")\n    target_floors = {FLOOR_1}  # Clear all requests except for Floor 1\n    emergency_mode = True\n    \ndef move_to_floor(target_floor):\n    if current_floor == target_floor:\n        return\n        \n    print(f\"Moving from Floor {current_floor + 1} to Floor {target_floor + 1}...\")\n        \n    # Simulate the movement and apply acceleration/deceleration\n    total_counts = abs(current_floor - target_floor) * 100\n    for i in range(total_counts):\n        time.sleep(0.05)  # Simulate time taken for each step\n        \n    # Update position when done\n    current_floor = target_floor\n    print(f\"Arrived at Floor {current_floor + 1}.\")\n    state = ARRIVING\n    open_door()\n\ndef open_door():\n    print(\"Opening doors...\")\n    door_open = True\n    time.sleep(2)  # Door remains open for 2 seconds\n    close_door()\n        \ndef close_door():\n    print(\"Closing doors...\")\n    door_open = False\n    time.sleep(1)  # Door takes 1 second to close\n    state = IDLE\n    check_for_requests()\n        \ndef check_for_requests():\n    if emergency_mode:\n        emergency_mode = False\n        print(\"Elevator is in emergency mode. Returning to Idle.\")\n        self.state = IDLE\n        return\n        \n    # Sort the target floors and determine next floor to move to\n    if target_floors:\n        requested_floors = sorted(target_floors)\n        next_floor = requested_floors.pop(0)  # Get the next request in sorted order\n        target_floors = set(requested_floors)  # Update remaining requests\n        if next_floor > current_floor:\n            state = MOVING_UP\n            move_to_floor(next_floor)\n        elif next_floor < current_floor:\n            state = MOVING_DOWN\n            move_to_floor(next_floor)\n    else:\n        print(\"No pending requests. Elevator is idle.\")\n        state = IDLE\n\ndef update_motor_output():\n    # Pin 3 (Up/Down)\n    if state == MOVING_UP:\n        EUD.write(1)  # Up\n    elif state == MOVING_DOWN:\n        EUD.write(0)  # Down\n    else:\n        EUD.write(0)  # Stop\n\n    # Pin 4 (Stop/Go)\n    if state == MOVING_UP or state == MOVING_DOWN:\n        ESG.write(0)  # Go\n    else:\n        ESG.write(1)  # Stop\n\n    # Pin 5 (Door Open/Close)\n    if door_open:\n        ECO.write(1)  # Door Open\n    else:\n        ECO.write(0)  # Door Close\n\ndef update_floor_output():\n    if current_floor == FLOOR_1:\n        CF1.write(0)\n        CF0.write(0)\n    elif current_floor == FLOOR_2:\n        CF1.write(0)\n        CF0.write(1)\n    elif self.current_floor == FLOOR_3:\n        CF1.write(1)\n        CF0.write(0)\n    elif self.current_floor == FLOOR_4:\n        CF1.write(1)\n        CF0.write(1)\n",
      "metadata": {
        "trusted": true
      },
      "outputs": [],
      "execution_count": null
    },
    {
      "cell_type": "code",
      "source": "",
      "metadata": {
        "trusted": true
      },
      "outputs": [],
      "execution_count": null
    }
  ]
}